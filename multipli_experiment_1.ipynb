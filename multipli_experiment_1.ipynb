{
  "nbformat": 4,
  "nbformat_minor": 0,
  "metadata": {
    "colab": {
      "name": "multipli_experiment_1.ipynb",
      "provenance": [],
      "collapsed_sections": []
    },
    "kernelspec": {
      "name": "python3",
      "display_name": "Python 3"
    }
  },
  "cells": [
    {
      "cell_type": "code",
      "metadata": {
        "id": "Manos72Ab3Wx"
      },
      "source": [
        "import pandas as pd\n",
        "import numpy as np"
      ],
      "execution_count": 1,
      "outputs": []
    },
    {
      "cell_type": "code",
      "metadata": {
        "colab": {
          "resources": {
            "http://localhost:8080/nbextensions/google.colab/files.js": {
              "data": "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",
              "ok": true,
              "headers": [
                [
                  "content-type",
                  "application/javascript"
                ]
              ],
              "status": 200,
              "status_text": "OK"
            }
          },
          "base_uri": "https://localhost:8080/",
          "height": 79
        },
        "id": "xGuOq_dtb-_O",
        "outputId": "406ef1cb-70d1-47a7-dd0e-076986f5ed40"
      },
      "source": [
        "from google.colab import files\n",
        "uploaded = files.upload()"
      ],
      "execution_count": 2,
      "outputs": [
        {
          "output_type": "display_data",
          "data": {
            "text/html": [
              "\n",
              "     <input type=\"file\" id=\"files-728ef406-be92-4b68-9e93-184f3230ab58\" name=\"files[]\" multiple disabled\n",
              "        style=\"border:none\" />\n",
              "     <output id=\"result-728ef406-be92-4b68-9e93-184f3230ab58\">\n",
              "      Upload widget is only available when the cell has been executed in the\n",
              "      current browser session. Please rerun this cell to enable.\n",
              "      </output>\n",
              "      <script src=\"/nbextensions/google.colab/files.js\"></script> "
            ],
            "text/plain": [
              "<IPython.core.display.HTML object>"
            ]
          },
          "metadata": {
            "tags": []
          }
        },
        {
          "output_type": "stream",
          "text": [
            "Saving cleaned_labelled_october.pkl to cleaned_labelled_october.pkl\n"
          ],
          "name": "stdout"
        }
      ]
    },
    {
      "cell_type": "code",
      "metadata": {
        "id": "HiR35NnKcG8e"
      },
      "source": [
        "import pickle5 as pickle\n",
        "\n",
        "with open('cleaned_labelled_october.pkl', 'rb') as f:\n",
        "    data = pickle.load(f)\n"
      ],
      "execution_count": 62,
      "outputs": []
    },
    {
      "cell_type": "code",
      "metadata": {
        "colab": {
          "base_uri": "https://localhost:8080/",
          "height": 206
        },
        "id": "bXgvOj8ScTO6",
        "outputId": "c7ffbddd-ae6f-452e-bf26-ba189aa3f3cc"
      },
      "source": [
        "data.head()"
      ],
      "execution_count": 63,
      "outputs": [
        {
          "output_type": "execute_result",
          "data": {
            "text/html": [
              "<div>\n",
              "<style scoped>\n",
              "    .dataframe tbody tr th:only-of-type {\n",
              "        vertical-align: middle;\n",
              "    }\n",
              "\n",
              "    .dataframe tbody tr th {\n",
              "        vertical-align: top;\n",
              "    }\n",
              "\n",
              "    .dataframe thead th {\n",
              "        text-align: right;\n",
              "    }\n",
              "</style>\n",
              "<table border=\"1\" class=\"dataframe\">\n",
              "  <thead>\n",
              "    <tr style=\"text-align: right;\">\n",
              "      <th></th>\n",
              "      <th>username</th>\n",
              "      <th>jobrole</th>\n",
              "      <th>instructor</th>\n",
              "      <th>companyname</th>\n",
              "      <th>timezone</th>\n",
              "      <th>meetingtitle</th>\n",
              "      <th>tag</th>\n",
              "      <th>teamsize</th>\n",
              "      <th>companysize</th>\n",
              "      <th>noguest</th>\n",
              "      <th>starttime</th>\n",
              "      <th>endtime</th>\n",
              "      <th>lastsync</th>\n",
              "    </tr>\n",
              "  </thead>\n",
              "  <tbody>\n",
              "    <tr>\n",
              "      <th>0</th>\n",
              "      <td>Eduardo de Barros</td>\n",
              "      <td>Founder</td>\n",
              "      <td>unknown</td>\n",
              "      <td>Neofelis</td>\n",
              "      <td>(+) 7hrs BST</td>\n",
              "      <td>Continue Personal Dev Plan</td>\n",
              "      <td>n</td>\n",
              "      <td>10</td>\n",
              "      <td>10</td>\n",
              "      <td>0</td>\n",
              "      <td>2020-07-12 14:00:00</td>\n",
              "      <td>NaT</td>\n",
              "      <td>2020-07-13</td>\n",
              "    </tr>\n",
              "    <tr>\n",
              "      <th>1</th>\n",
              "      <td>Eduardo de Barros</td>\n",
              "      <td>Founder</td>\n",
              "      <td>unknown</td>\n",
              "      <td>Neofelis</td>\n",
              "      <td>(+) 7hrs BST</td>\n",
              "      <td>Duck Apple</td>\n",
              "      <td>n</td>\n",
              "      <td>10</td>\n",
              "      <td>10</td>\n",
              "      <td>0</td>\n",
              "      <td>2020-07-12 15:30:00</td>\n",
              "      <td>NaT</td>\n",
              "      <td>2020-07-13</td>\n",
              "    </tr>\n",
              "    <tr>\n",
              "      <th>2</th>\n",
              "      <td>Eduardo de Barros</td>\n",
              "      <td>Founder</td>\n",
              "      <td>unknown</td>\n",
              "      <td>Neofelis</td>\n",
              "      <td>(+) 7hrs BST</td>\n",
              "      <td>🙌 Happy Monday Team Call + PM Tool review</td>\n",
              "      <td>team spirit</td>\n",
              "      <td>10</td>\n",
              "      <td>10</td>\n",
              "      <td>2</td>\n",
              "      <td>2020-07-13 12:00:00</td>\n",
              "      <td>NaT</td>\n",
              "      <td>2020-07-13</td>\n",
              "    </tr>\n",
              "    <tr>\n",
              "      <th>3</th>\n",
              "      <td>Eduardo de Barros</td>\n",
              "      <td>Founder</td>\n",
              "      <td>unknown</td>\n",
              "      <td>Neofelis</td>\n",
              "      <td>(+) 7hrs BST</td>\n",
              "      <td>Last week's calls - Thank you notes</td>\n",
              "      <td>n</td>\n",
              "      <td>10</td>\n",
              "      <td>10</td>\n",
              "      <td>0</td>\n",
              "      <td>2020-07-13 12:45:00</td>\n",
              "      <td>NaT</td>\n",
              "      <td>2020-07-13</td>\n",
              "    </tr>\n",
              "    <tr>\n",
              "      <th>4</th>\n",
              "      <td>Eduardo de Barros</td>\n",
              "      <td>Founder</td>\n",
              "      <td>unknown</td>\n",
              "      <td>Neofelis</td>\n",
              "      <td>(+) 7hrs BST</td>\n",
              "      <td>MM FUs</td>\n",
              "      <td>n</td>\n",
              "      <td>10</td>\n",
              "      <td>10</td>\n",
              "      <td>0</td>\n",
              "      <td>2020-07-13 13:15:00</td>\n",
              "      <td>NaT</td>\n",
              "      <td>2020-07-14</td>\n",
              "    </tr>\n",
              "  </tbody>\n",
              "</table>\n",
              "</div>"
            ],
            "text/plain": [
              "            username  jobrole instructor  ...           starttime endtime   lastsync\n",
              "0  Eduardo de Barros  Founder    unknown  ... 2020-07-12 14:00:00     NaT 2020-07-13\n",
              "1  Eduardo de Barros  Founder    unknown  ... 2020-07-12 15:30:00     NaT 2020-07-13\n",
              "2  Eduardo de Barros  Founder    unknown  ... 2020-07-13 12:00:00     NaT 2020-07-13\n",
              "3  Eduardo de Barros  Founder    unknown  ... 2020-07-13 12:45:00     NaT 2020-07-13\n",
              "4  Eduardo de Barros  Founder    unknown  ... 2020-07-13 13:15:00     NaT 2020-07-14\n",
              "\n",
              "[5 rows x 13 columns]"
            ]
          },
          "metadata": {
            "tags": []
          },
          "execution_count": 63
        }
      ]
    },
    {
      "cell_type": "code",
      "metadata": {
        "colab": {
          "base_uri": "https://localhost:8080/"
        },
        "id": "je1ssYsAdQoM",
        "outputId": "f101e800-16de-407f-944c-2d914fb69d60"
      },
      "source": [
        "print(set(data['tag']))"
      ],
      "execution_count": 64,
      "outputs": [
        {
          "output_type": "stream",
          "text": [
            "{'?', 'one to one', 'team spirit', 'projet', 'project', 'n', 'unknown', 'broadcast', 'external', 'performance'}\n"
          ],
          "name": "stdout"
        }
      ]
    },
    {
      "cell_type": "code",
      "metadata": {
        "colab": {
          "base_uri": "https://localhost:8080/"
        },
        "id": "U34gLAX9dXcU",
        "outputId": "28bdb436-d69c-4e69-ad7a-7e9060b2e1f0"
      },
      "source": [
        "#have a problem here as some empty entries are '?', some are 'unknown', have to fix this in the data cleaner\n",
        "print(data['tag'][data['tag'] == '?'])"
      ],
      "execution_count": 76,
      "outputs": [
        {
          "output_type": "stream",
          "text": [
            "202    ?\n",
            "206    ?\n",
            "216    ?\n",
            "233    ?\n",
            "246    ?\n",
            "296    ?\n",
            "329    ?\n",
            "340    ?\n",
            "363    ?\n",
            "395    ?\n",
            "403    ?\n",
            "477    ?\n",
            "502    ?\n",
            "515    ?\n",
            "639    ?\n",
            "686    ?\n",
            "723    ?\n",
            "Name: tag, dtype: object\n"
          ],
          "name": "stdout"
        }
      ]
    },
    {
      "cell_type": "code",
      "metadata": {
        "colab": {
          "base_uri": "https://localhost:8080/",
          "height": 350
        },
        "id": "S6aBUY5DdilD",
        "outputId": "80fc524f-dd86-47c0-c616-c6438b46540b"
      },
      "source": [
        "data.groupby('tag').meetingtitle.count().plot.bar(color='blue')"
      ],
      "execution_count": 66,
      "outputs": [
        {
          "output_type": "execute_result",
          "data": {
            "text/plain": [
              "<matplotlib.axes._subplots.AxesSubplot at 0x7fd3961aa6a0>"
            ]
          },
          "metadata": {
            "tags": []
          },
          "execution_count": 66
        },
        {
          "output_type": "display_data",
          "data": {
            "image/png": "[encoded data removed]",
            "text/plain": [
              "<Figure size 432x288 with 1 Axes>"
            ]
          },
          "metadata": {
            "tags": [],
            "needs_background": "light"
          }
        }
      ]
    },
    {
      "cell_type": "code",
      "metadata": {
        "colab": {
          "base_uri": "https://localhost:8080/",
          "height": 433
        },
        "id": "_MuR4KJPeegY",
        "outputId": "1549f75e-5665-40ef-f9a7-86f16c92ebff"
      },
      "source": [
        "!pip3 install nltk\n",
        "import re\n",
        "\n",
        "#removing all but letters and spaces\n",
        "def remove_punct(sentence):\n",
        "  sentence = sentence.lower()\n",
        "  sentence = re.sub('[^a-z]+',' ', sentence)\n",
        "  return sentence\n",
        "\n",
        "#removing stopwords\n",
        "import nltk\n",
        "nltk.download('stopwords')\n",
        "sw = stopwords.words('english')\n",
        "def stop_word(sentence):\n",
        "  new_sentence = []\n",
        "  for word in sentence.split():\n",
        "    if word not in sw:\n",
        "      new_sentence.append(word)\n",
        "  return (\" \".join(new_sentence))\n",
        "data['meetingtitle'] = data['meetingtitle'].apply(remove_punct)\n",
        "data['meetingtitle'] = data['meetingtitle'].apply(stop_word)\n",
        "data.head(10)"
      ],
      "execution_count": 67,
      "outputs": [
        {
          "output_type": "stream",
          "text": [
            "Requirement already satisfied: nltk in /usr/local/lib/python3.6/dist-packages (3.2.5)\n",
            "Requirement already satisfied: six in /usr/local/lib/python3.6/dist-packages (from nltk) (1.15.0)\n",
            "[nltk_data] Downloading package stopwords to /root/nltk_data...\n",
            "[nltk_data]   Package stopwords is already up-to-date!\n"
          ],
          "name": "stdout"
        },
        {
          "output_type": "execute_result",
          "data": {
            "text/html": [
              "<div>\n",
              "<style scoped>\n",
              "    .dataframe tbody tr th:only-of-type {\n",
              "        vertical-align: middle;\n",
              "    }\n",
              "\n",
              "    .dataframe tbody tr th {\n",
              "        vertical-align: top;\n",
              "    }\n",
              "\n",
              "    .dataframe thead th {\n",
              "        text-align: right;\n",
              "    }\n",
              "</style>\n",
              "<table border=\"1\" class=\"dataframe\">\n",
              "  <thead>\n",
              "    <tr style=\"text-align: right;\">\n",
              "      <th></th>\n",
              "      <th>username</th>\n",
              "      <th>jobrole</th>\n",
              "      <th>instructor</th>\n",
              "      <th>companyname</th>\n",
              "      <th>timezone</th>\n",
              "      <th>meetingtitle</th>\n",
              "      <th>tag</th>\n",
              "      <th>teamsize</th>\n",
              "      <th>companysize</th>\n",
              "      <th>noguest</th>\n",
              "      <th>starttime</th>\n",
              "      <th>endtime</th>\n",
              "      <th>lastsync</th>\n",
              "    </tr>\n",
              "  </thead>\n",
              "  <tbody>\n",
              "    <tr>\n",
              "      <th>0</th>\n",
              "      <td>Eduardo de Barros</td>\n",
              "      <td>Founder</td>\n",
              "      <td>unknown</td>\n",
              "      <td>Neofelis</td>\n",
              "      <td>(+) 7hrs BST</td>\n",
              "      <td>continue personal dev plan</td>\n",
              "      <td>n</td>\n",
              "      <td>10</td>\n",
              "      <td>10</td>\n",
              "      <td>0</td>\n",
              "      <td>2020-07-12 14:00:00</td>\n",
              "      <td>NaT</td>\n",
              "      <td>2020-07-13</td>\n",
              "    </tr>\n",
              "    <tr>\n",
              "      <th>1</th>\n",
              "      <td>Eduardo de Barros</td>\n",
              "      <td>Founder</td>\n",
              "      <td>unknown</td>\n",
              "      <td>Neofelis</td>\n",
              "      <td>(+) 7hrs BST</td>\n",
              "      <td>duck apple</td>\n",
              "      <td>n</td>\n",
              "      <td>10</td>\n",
              "      <td>10</td>\n",
              "      <td>0</td>\n",
              "      <td>2020-07-12 15:30:00</td>\n",
              "      <td>NaT</td>\n",
              "      <td>2020-07-13</td>\n",
              "    </tr>\n",
              "    <tr>\n",
              "      <th>2</th>\n",
              "      <td>Eduardo de Barros</td>\n",
              "      <td>Founder</td>\n",
              "      <td>unknown</td>\n",
              "      <td>Neofelis</td>\n",
              "      <td>(+) 7hrs BST</td>\n",
              "      <td>happy monday team call pm tool review</td>\n",
              "      <td>team spirit</td>\n",
              "      <td>10</td>\n",
              "      <td>10</td>\n",
              "      <td>2</td>\n",
              "      <td>2020-07-13 12:00:00</td>\n",
              "      <td>NaT</td>\n",
              "      <td>2020-07-13</td>\n",
              "    </tr>\n",
              "    <tr>\n",
              "      <th>3</th>\n",
              "      <td>Eduardo de Barros</td>\n",
              "      <td>Founder</td>\n",
              "      <td>unknown</td>\n",
              "      <td>Neofelis</td>\n",
              "      <td>(+) 7hrs BST</td>\n",
              "      <td>last week calls thank notes</td>\n",
              "      <td>n</td>\n",
              "      <td>10</td>\n",
              "      <td>10</td>\n",
              "      <td>0</td>\n",
              "      <td>2020-07-13 12:45:00</td>\n",
              "      <td>NaT</td>\n",
              "      <td>2020-07-13</td>\n",
              "    </tr>\n",
              "    <tr>\n",
              "      <th>4</th>\n",
              "      <td>Eduardo de Barros</td>\n",
              "      <td>Founder</td>\n",
              "      <td>unknown</td>\n",
              "      <td>Neofelis</td>\n",
              "      <td>(+) 7hrs BST</td>\n",
              "      <td>mm fus</td>\n",
              "      <td>n</td>\n",
              "      <td>10</td>\n",
              "      <td>10</td>\n",
              "      <td>0</td>\n",
              "      <td>2020-07-13 13:15:00</td>\n",
              "      <td>NaT</td>\n",
              "      <td>2020-07-14</td>\n",
              "    </tr>\n",
              "    <tr>\n",
              "      <th>5</th>\n",
              "      <td>Eduardo de Barros</td>\n",
              "      <td>Founder</td>\n",
              "      <td>unknown</td>\n",
              "      <td>Neofelis</td>\n",
              "      <td>(+) 7hrs BST</td>\n",
              "      <td>todolist task</td>\n",
              "      <td>n</td>\n",
              "      <td>10</td>\n",
              "      <td>10</td>\n",
              "      <td>0</td>\n",
              "      <td>2020-07-13 14:30:00</td>\n",
              "      <td>NaT</td>\n",
              "      <td>2020-07-14</td>\n",
              "    </tr>\n",
              "    <tr>\n",
              "      <th>6</th>\n",
              "      <td>Eduardo de Barros</td>\n",
              "      <td>Founder</td>\n",
              "      <td>unknown</td>\n",
              "      <td>Neofelis</td>\n",
              "      <td>(+) 7hrs BST</td>\n",
              "      <td>kevin teeroovengadum eduardo de barros</td>\n",
              "      <td>external</td>\n",
              "      <td>10</td>\n",
              "      <td>10</td>\n",
              "      <td>1</td>\n",
              "      <td>2020-07-13 15:00:00</td>\n",
              "      <td>NaT</td>\n",
              "      <td>2020-07-14</td>\n",
              "    </tr>\n",
              "    <tr>\n",
              "      <th>7</th>\n",
              "      <td>Eduardo de Barros</td>\n",
              "      <td>Founder</td>\n",
              "      <td>unknown</td>\n",
              "      <td>Neofelis</td>\n",
              "      <td>(+) 7hrs BST</td>\n",
              "      <td>cathy chow chanel update</td>\n",
              "      <td>external</td>\n",
              "      <td>10</td>\n",
              "      <td>10</td>\n",
              "      <td>0</td>\n",
              "      <td>2020-07-13 15:30:00</td>\n",
              "      <td>NaT</td>\n",
              "      <td>2020-07-14</td>\n",
              "    </tr>\n",
              "    <tr>\n",
              "      <th>8</th>\n",
              "      <td>Eduardo de Barros</td>\n",
              "      <td>Founder</td>\n",
              "      <td>unknown</td>\n",
              "      <td>Neofelis</td>\n",
              "      <td>(+) 7hrs BST</td>\n",
              "      <td>lunch</td>\n",
              "      <td>n</td>\n",
              "      <td>10</td>\n",
              "      <td>10</td>\n",
              "      <td>0</td>\n",
              "      <td>2020-07-13 16:00:00</td>\n",
              "      <td>NaT</td>\n",
              "      <td>2020-07-14</td>\n",
              "    </tr>\n",
              "    <tr>\n",
              "      <th>9</th>\n",
              "      <td>Eduardo de Barros</td>\n",
              "      <td>Founder</td>\n",
              "      <td>unknown</td>\n",
              "      <td>Neofelis</td>\n",
              "      <td>(+) 7hrs BST</td>\n",
              "      <td>mm fus</td>\n",
              "      <td>n</td>\n",
              "      <td>10</td>\n",
              "      <td>10</td>\n",
              "      <td>0</td>\n",
              "      <td>2020-07-13 17:30:00</td>\n",
              "      <td>NaT</td>\n",
              "      <td>2020-07-14</td>\n",
              "    </tr>\n",
              "  </tbody>\n",
              "</table>\n",
              "</div>"
            ],
            "text/plain": [
              "            username  jobrole instructor  ...           starttime endtime   lastsync\n",
              "0  Eduardo de Barros  Founder    unknown  ... 2020-07-12 14:00:00     NaT 2020-07-13\n",
              "1  Eduardo de Barros  Founder    unknown  ... 2020-07-12 15:30:00     NaT 2020-07-13\n",
              "2  Eduardo de Barros  Founder    unknown  ... 2020-07-13 12:00:00     NaT 2020-07-13\n",
              "3  Eduardo de Barros  Founder    unknown  ... 2020-07-13 12:45:00     NaT 2020-07-13\n",
              "4  Eduardo de Barros  Founder    unknown  ... 2020-07-13 13:15:00     NaT 2020-07-14\n",
              "5  Eduardo de Barros  Founder    unknown  ... 2020-07-13 14:30:00     NaT 2020-07-14\n",
              "6  Eduardo de Barros  Founder    unknown  ... 2020-07-13 15:00:00     NaT 2020-07-14\n",
              "7  Eduardo de Barros  Founder    unknown  ... 2020-07-13 15:30:00     NaT 2020-07-14\n",
              "8  Eduardo de Barros  Founder    unknown  ... 2020-07-13 16:00:00     NaT 2020-07-14\n",
              "9  Eduardo de Barros  Founder    unknown  ... 2020-07-13 17:30:00     NaT 2020-07-14\n",
              "\n",
              "[10 rows x 13 columns]"
            ]
          },
          "metadata": {
            "tags": []
          },
          "execution_count": 67
        }
      ]
    },
    {
      "cell_type": "code",
      "metadata": {
        "colab": {
          "base_uri": "https://localhost:8080/"
        },
        "id": "A5Kh19DGfZ2e",
        "outputId": "24953150-3a4e-4114-8076-bd8c7b8b6c17"
      },
      "source": [
        "\n",
        "#extracting useful features from meeting titles\n",
        "from sklearn.feature_extraction.text import TfidfVectorizer\n",
        "Tfidf = TfidfVectorizer(min_df=5, ngram_range=(1, 2))\n",
        "tfidf_features = Tfidf.fit_transform(data.meetingtitle)\n",
        "tfidf_features.shape"
      ],
      "execution_count": 75,
      "outputs": [
        {
          "output_type": "stream",
          "text": [
            "  (0, 130)\t1.0\n",
            "  (2, 139)\t0.4741655893344931\n",
            "  (2, 16)\t0.38522734612935916\n",
            "  (2, 159)\t0.4778727738197629\n",
            "  (2, 68)\t0.6311929164106718\n",
            "  (3, 116)\t0.5956522182820747\n",
            "  (3, 175)\t0.5679781839365152\n",
            "  (3, 87)\t0.5679781839365152\n",
            "  (6, 46)\t0.4172658034274802\n",
            "  (6, 56)\t0.4172658034274802\n",
            "  (6, 4)\t0.4172658034274802\n",
            "  (6, 45)\t0.40687796581778946\n",
            "  (6, 55)\t0.40687796581778946\n",
            "  (6, 84)\t0.38284251296585897\n",
            "  (7, 168)\t1.0\n",
            "  (8, 93)\t1.0\n",
            "  (10, 49)\t0.6640167868084075\n",
            "  (10, 130)\t0.7477176651896341\n",
            "  (11, 46)\t0.45167747366324484\n",
            "  (11, 56)\t0.45167747366324484\n",
            "  (11, 4)\t0.45167747366324484\n",
            "  (11, 45)\t0.44043295707494834\n",
            "  (11, 55)\t0.44043295707494834\n",
            "  (13, 78)\t1.0\n",
            "  (18, 35)\t0.7149685652242863\n",
            "  :\t:\n",
            "  (1059, 22)\t0.6672461778845545\n",
            "  (1059, 159)\t0.744837256116028\n",
            "  (1061, 178)\t0.7159943192269466\n",
            "  (1061, 24)\t0.6981061057136955\n",
            "  (1062, 96)\t0.6679254797176459\n",
            "  (1062, 77)\t0.7442281596015785\n",
            "  (1063, 24)\t1.0\n",
            "  (1064, 165)\t0.648541045334925\n",
            "  (1064, 130)\t0.7611796847761263\n",
            "  (1065, 103)\t1.0\n",
            "  (1066, 96)\t0.6679254797176459\n",
            "  (1066, 77)\t0.7442281596015785\n",
            "  (1067, 165)\t0.6579813771049573\n",
            "  (1067, 45)\t0.7530342006728938\n",
            "  (1068, 165)\t0.648541045334925\n",
            "  (1068, 130)\t0.7611796847761263\n",
            "  (1069, 96)\t0.6679254797176459\n",
            "  (1069, 77)\t0.7442281596015785\n",
            "  (1070, 96)\t0.6679254797176459\n",
            "  (1070, 77)\t0.7442281596015785\n",
            "  (1071, 16)\t1.0\n",
            "  (1072, 22)\t1.0\n",
            "  (1073, 110)\t1.0\n",
            "  (1074, 77)\t1.0\n",
            "  (1076, 35)\t1.0\n"
          ],
          "name": "stdout"
        }
      ]
    },
    {
      "cell_type": "code",
      "metadata": {
        "colab": {
          "base_uri": "https://localhost:8080/"
        },
        "id": "GQ4K4_efhPdz",
        "outputId": "640a6cdc-1be0-4b1a-f41f-b7acdeea5969"
      },
      "source": [
        "from sklearn.tree import DecisionTreeClassifier\n",
        "from sklearn.model_selection import train_test_split\n",
        "DTClass = DecisionTreeClassifier(criterion=\"gini\", splitter=\"best\", random_state=77)\n",
        "X_train, X_test, y_train, y_test = train_test_split(tfidf_features, data['tag'], test_size = 1/5, random_state = 50)\n",
        "DTClass.fit(X_train,y_train)\n",
        "prediction = DTClass.predict(X_test)\n",
        "from sklearn.metrics import accuracy_score\n",
        "print(\"accuracy score:\")\n",
        "print(accuracy_score(y_test, prediction))"
      ],
      "execution_count": 71,
      "outputs": [
        {
          "output_type": "stream",
          "text": [
            "accuracy score:\n",
            "0.6990740740740741\n"
          ],
          "name": "stdout"
        }
      ]
    },
    {
      "cell_type": "code",
      "metadata": {
        "colab": {
          "base_uri": "https://localhost:8080/"
        },
        "id": "xvqbnYO6hbk_",
        "outputId": "9a36ee98-3b30-4a20-fc88-a4eefc45d146"
      },
      "source": [
        "from sklearn.svm import LinearSVC\n",
        "from sklearn.model_selection import train_test_split\n",
        "svc = LinearSVC()\n",
        "X_train, X_test, y_train, y_test = train_test_split(tfidf_features, data['tag'], test_size = 1/5, random_state = 50)\n",
        "svc.fit(X_train,y_train)\n",
        "prediction = svc.predict(X_test)\n",
        "print(\"accuracy score:\")\n",
        "print(accuracy_score(y_test, prediction))"
      ],
      "execution_count": 72,
      "outputs": [
        {
          "output_type": "stream",
          "text": [
            "accuracy score:\n",
            "0.7083333333333334\n"
          ],
          "name": "stdout"
        }
      ]
    },
    {
      "cell_type": "code",
      "metadata": {
        "colab": {
          "base_uri": "https://localhost:8080/"
        },
        "id": "xGCd1UnUhttI",
        "outputId": "27ab641e-a3bd-45c2-fd3a-6fa6147a1b77"
      },
      "source": [
        "from sklearn.ensemble import RandomForestClassifier\n",
        "from sklearn.model_selection import train_test_split\n",
        "RFClass = RandomForestClassifier(n_estimators=500, criterion=\"gini\", random_state=77)\n",
        "X_train, X_test, y_train, y_test = train_test_split(tfidf_features, data[\"tag\"], test_size = 1/5, random_state = 50)\n",
        "RFClass.fit(X_train,y_train)\n",
        "prediction = RFClass.predict(X_test)\n",
        "print(\"accuracy score:\")\n",
        "print(accuracy_score(y_test, prediction))"
      ],
      "execution_count": 74,
      "outputs": [
        {
          "output_type": "stream",
          "text": [
            "accuracy score:\n",
            "0.7037037037037037\n"
          ],
          "name": "stdout"
        }
      ]
    },
    {
      "cell_type": "code",
      "metadata": {
        "id": "lrfGWTFFhy9p"
      },
      "source": [
        ""
      ],
      "execution_count": null,
      "outputs": []
    }
  ]
}